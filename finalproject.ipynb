{
 "cells": [
  {
   "cell_type": "markdown",
   "metadata": {},
   "source": [
    "# Main Document"
   ]
  },
  {
   "cell_type": "markdown",
   "metadata": {},
   "source": [
    "## EDA"
   ]
  },
  {
   "cell_type": "code",
   "execution_count": 21,
   "metadata": {},
   "outputs": [
    {
     "name": "stdout",
     "output_type": "stream",
     "text": [
      "Dataset length:  929861\n",
      "Pedestrian dataset length:  22146\n",
      "Percentage of pedestrian crashes:  2.3816462890690113\n",
      "PARKED MOTOR VEHICLE: 23.14%\n",
      "REAR END: 22.03%\n",
      "SIDESWIPE SAME DIRECTION: 15.37%\n",
      "TURNING: 14.42%\n",
      "ANGLE: 10.90%\n",
      "FIXED OBJECT: 4.64%\n",
      "PEDESTRIAN: 2.38%\n",
      "PEDALCYCLIST: 1.57%\n",
      "SIDESWIPE OPPOSITE DIRECTION: 1.39%\n",
      "REAR TO FRONT: 1.05%\n",
      "OTHER OBJECT: 1.00%\n",
      "HEAD ON: 0.85%\n",
      "REAR TO SIDE: 0.62%\n",
      "OTHER NONCOLLISION: 0.30%\n",
      "REAR TO REAR: 0.22%\n",
      "ANIMAL: 0.07%\n",
      "OVERTURNED: 0.06%\n",
      "TRAIN: 0.01%\n",
      "Pedestrian involved crashes dataset length:  36744\n",
      "Percentage of pedestrian involved crashes:  3.951558351194426\n"
     ]
    }
   ],
   "source": [
    "import pandas as pd\n",
    "\n",
    "# Read in the dataset\n",
    "df = pd.read_csv('Traffic_Crash_Data.csv')\n",
    "\n",
    "# Display the length of the dataset\n",
    "print(\"Dataset length: \" , len(df))\n",
    "\n",
    "# Create a dataframe for pedestrian crashes only\n",
    "pedestrian_df = df[df['FIRST_CRASH_TYPE'] == 'PEDESTRIAN']\n",
    "\n",
    "# Print the length of the pedestrian dataframe\n",
    "print(\"Pedestrian dataset length: \" , len(pedestrian_df))\n",
    "\n",
    "# Print the percentage of pedestrian crashes in the dataset\n",
    "print(\"Percentage of pedestrian crashes: \" , len(pedestrian_df) / len(df) * 100)\n",
    "\n",
    "# Count each crash type and calculate percentage\n",
    "crash_type_percentage_breakdown = df['FIRST_CRASH_TYPE'].value_counts(normalize=True) * 100\n",
    "\n",
    "# Print results in a coincise format\n",
    "for crash_type, percentage in crash_type_percentage_breakdown.items():\n",
    "    print(f\"{crash_type}: {percentage:.2f}%\")\n",
    "\n",
    "# Identify the types of crashes that involve pedestrains based on the category breakdown and creating a new dataframe\n",
    "pedestrain_involved_crashes = df[df['FIRST_CRASH_TYPE'].isin(['PEDESTRIAN', 'PEDALCYCLIST'])]\n",
    "\n",
    "# Print the length of the pedestrian involved crashes dataframe and percentage \n",
    "print(\"Pedestrian involved crashes dataset length: \" , len(pedestrain_involved_crashes))\n",
    "print(\"Percentage of pedestrian involved crashes: \" , len(pedestrain_involved_crashes) / len(df) * 100)\n",
    "\n",
    "\n"
   ]
  },
  {
   "cell_type": "markdown",
   "metadata": {},
   "source": [
    "## Visuals "
   ]
  },
  {
   "cell_type": "code",
   "execution_count": null,
   "metadata": {},
   "outputs": [
    {
     "data": {
      "text/html": [
       "\n",
       "<style>\n",
       "  #altair-viz-9a599f442b094ef09595b77c1110cbe3.vega-embed {\n",
       "    width: 100%;\n",
       "    display: flex;\n",
       "  }\n",
       "\n",
       "  #altair-viz-9a599f442b094ef09595b77c1110cbe3.vega-embed details,\n",
       "  #altair-viz-9a599f442b094ef09595b77c1110cbe3.vega-embed details summary {\n",
       "    position: relative;\n",
       "  }\n",
       "</style>\n",
       "<div id=\"altair-viz-9a599f442b094ef09595b77c1110cbe3\"></div>\n",
       "<script type=\"text/javascript\">\n",
       "  var VEGA_DEBUG = (typeof VEGA_DEBUG == \"undefined\") ? {} : VEGA_DEBUG;\n",
       "  (function(spec, embedOpt){\n",
       "    let outputDiv = document.currentScript.previousElementSibling;\n",
       "    if (outputDiv.id !== \"altair-viz-9a599f442b094ef09595b77c1110cbe3\") {\n",
       "      outputDiv = document.getElementById(\"altair-viz-9a599f442b094ef09595b77c1110cbe3\");\n",
       "    }\n",
       "\n",
       "    const paths = {\n",
       "      \"vega\": \"https://cdn.jsdelivr.net/npm/vega@5?noext\",\n",
       "      \"vega-lib\": \"https://cdn.jsdelivr.net/npm/vega-lib?noext\",\n",
       "      \"vega-lite\": \"https://cdn.jsdelivr.net/npm/vega-lite@5.20.1?noext\",\n",
       "      \"vega-embed\": \"https://cdn.jsdelivr.net/npm/vega-embed@6?noext\",\n",
       "    };\n",
       "\n",
       "    function maybeLoadScript(lib, version) {\n",
       "      var key = `${lib.replace(\"-\", \"\")}_version`;\n",
       "      return (VEGA_DEBUG[key] == version) ?\n",
       "        Promise.resolve(paths[lib]) :\n",
       "        new Promise(function(resolve, reject) {\n",
       "          var s = document.createElement('script');\n",
       "          document.getElementsByTagName(\"head\")[0].appendChild(s);\n",
       "          s.async = true;\n",
       "          s.onload = () => {\n",
       "            VEGA_DEBUG[key] = version;\n",
       "            return resolve(paths[lib]);\n",
       "          };\n",
       "          s.onerror = () => reject(`Error loading script: ${paths[lib]}`);\n",
       "          s.src = paths[lib];\n",
       "        });\n",
       "    }\n",
       "\n",
       "    function showError(err) {\n",
       "      outputDiv.innerHTML = `<div class=\"error\" style=\"color:red;\">${err}</div>`;\n",
       "      throw err;\n",
       "    }\n",
       "\n",
       "    function displayChart(vegaEmbed) {\n",
       "      vegaEmbed(outputDiv, spec, embedOpt)\n",
       "        .catch(err => showError(`Javascript Error: ${err.message}<br>This usually means there's a typo in your chart specification. See the javascript console for the full traceback.`));\n",
       "    }\n",
       "\n",
       "    if(typeof define === \"function\" && define.amd) {\n",
       "      requirejs.config({paths});\n",
       "      let deps = [\"vega-embed\"];\n",
       "      require(deps, displayChart, err => showError(`Error loading script: ${err.message}`));\n",
       "    } else {\n",
       "      maybeLoadScript(\"vega\", \"5\")\n",
       "        .then(() => maybeLoadScript(\"vega-lite\", \"5.20.1\"))\n",
       "        .then(() => maybeLoadScript(\"vega-embed\", \"6\"))\n",
       "        .catch(showError)\n",
       "        .then(() => displayChart(vegaEmbed));\n",
       "    }\n",
       "  })({\"config\": {\"view\": {\"continuousWidth\": 300, \"continuousHeight\": 300}}, \"data\": {\"name\": \"data-cd14f689f8c8e27fe4a32b183e9e4f9a\"}, \"mark\": {\"type\": \"arc\", \"innerRadius\": 50}, \"encoding\": {\"color\": {\"field\": \"Crash_Type\", \"scale\": {\"scheme\": \"category20\"}, \"type\": \"nominal\"}, \"theta\": {\"field\": \"Percentage\", \"type\": \"quantitative\"}, \"tooltip\": [{\"field\": \"Crash_Type\", \"type\": \"nominal\"}, {\"field\": \"Percentage\", \"format\": \".2f\", \"type\": \"quantitative\"}]}, \"title\": \"Percentage Breakdown of First Crash Types\", \"$schema\": \"https://vega.github.io/schema/vega-lite/v5.20.1.json\", \"datasets\": {\"data-cd14f689f8c8e27fe4a32b183e9e4f9a\": [{\"Crash_Type\": \"PARKED MOTOR VEHICLE\", \"Percentage\": 23.140447873391828}, {\"Crash_Type\": \"REAR END\", \"Percentage\": 22.026733027839647}, {\"Crash_Type\": \"SIDESWIPE SAME DIRECTION\", \"Percentage\": 15.37305038064829}, {\"Crash_Type\": \"TURNING\", \"Percentage\": 14.415057734435576}, {\"Crash_Type\": \"ANGLE\", \"Percentage\": 10.898618180566773}, {\"Crash_Type\": \"FIXED OBJECT\", \"Percentage\": 4.643274639973071}, {\"Crash_Type\": \"PEDESTRIAN\", \"Percentage\": 2.3816462890690113}, {\"Crash_Type\": \"PEDALCYCLIST\", \"Percentage\": 1.5699120621254146}, {\"Crash_Type\": \"SIDESWIPE OPPOSITE DIRECTION\", \"Percentage\": 1.3853683507534997}, {\"Crash_Type\": \"REAR TO FRONT\", \"Percentage\": 1.0455326118634936}, {\"Crash_Type\": \"OTHER OBJECT\", \"Percentage\": 0.9959553094494769}, {\"Crash_Type\": \"HEAD ON\", \"Percentage\": 0.8472234022074266}, {\"Crash_Type\": \"REAR TO SIDE\", \"Percentage\": 0.6218133678044353}, {\"Crash_Type\": \"OTHER NONCOLLISION\", \"Percentage\": 0.3007976460997934}, {\"Crash_Type\": \"REAR TO REAR\", \"Percentage\": 0.21583871137729188}, {\"Crash_Type\": \"ANIMAL\", \"Percentage\": 0.07323675258990323}, {\"Crash_Type\": \"OVERTURNED\", \"Percentage\": 0.0601165120378207}, {\"Crash_Type\": \"TRAIN\", \"Percentage\": 0.005377147767246932}]}}, {\"mode\": \"vega-lite\"});\n",
       "</script>"
      ],
      "text/plain": [
       "alt.Chart(...)"
      ]
     },
     "metadata": {},
     "output_type": "display_data"
    }
   ],
   "source": [
    "import altair as alt\n",
    "import pandas as pd\n",
    "\n",
    "# Create a Dataframe from the crash type percentage breadkdown\n",
    "data = pd.DataFrame(list(crash_type_percentage_breakdown.items()), columns=['Crash_Type', 'Percentage'])\n",
    "\n",
    "# Create a pie chart using Altair\n",
    "chart = alt.Chart(data).mark_arc(innerRadius=50).encode(\n",
    "    theta=alt.Theta(field=\"Percentage\", type=\"quantitative\"), # Set the encodings to the percentage\n",
    "    color=alt.Color(field=\"Crash_Type\", type=\"nominal\", scale=alt.Scale(scheme='category20')), # Set the color scheme \n",
    "    tooltip=[alt.Tooltip(\"Crash_Type:N\"), alt.Tooltip(\"Percentage:Q\", format=\".2f\")]  # Round percentage to 2 decimal places when hovering \n",
    ").properties(\n",
    "    title=\"Percentage Breakdown of First Crash Types\" # Title of the chart\n",
    ")\n",
    "\n",
    "# Display the chart\n",
    "chart.show()\n"
   ]
  },
  {
   "cell_type": "markdown",
   "metadata": {},
   "source": [
    "## ML "
   ]
  },
  {
   "cell_type": "markdown",
   "metadata": {},
   "source": [
    "## Reflection"
   ]
  }
 ],
 "metadata": {
  "kernelspec": {
   "display_name": "venv",
   "language": "python",
   "name": "python3"
  },
  "language_info": {
   "codemirror_mode": {
    "name": "ipython",
    "version": 3
   },
   "file_extension": ".py",
   "mimetype": "text/x-python",
   "name": "python",
   "nbconvert_exporter": "python",
   "pygments_lexer": "ipython3",
   "version": "3.12.2"
  }
 },
 "nbformat": 4,
 "nbformat_minor": 2
}
