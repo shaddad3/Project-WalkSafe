{
 "cells": [
  {
   "cell_type": "markdown",
   "metadata": {},
   "source": [
    "# Main Document"
   ]
  },
  {
   "cell_type": "markdown",
   "metadata": {},
   "source": [
    "## EDA"
   ]
  },
  {
   "cell_type": "markdown",
   "metadata": {},
   "source": [
    "## Visuals "
   ]
  },
  {
   "cell_type": "code",
   "execution_count": 2,
   "metadata": {},
   "outputs": [
    {
     "name": "stderr",
     "output_type": "stream",
     "text": [
      "/var/folders/y4/b2fcjhj15hldf0d05r2dg2jr0000gn/T/ipykernel_16882/2046814545.py:31: SettingWithCopyWarning: \n",
      "A value is trying to be set on a copy of a slice from a DataFrame.\n",
      "Try using .loc[row_indexer,col_indexer] = value instead\n",
      "\n",
      "See the caveats in the documentation: https://pandas.pydata.org/pandas-docs/stable/user_guide/indexing.html#returning-a-view-versus-a-copy\n",
      "  crashes['POSTED_SPEED_LIMIT'] = pd.to_numeric(crashes['POSTED_SPEED_LIMIT'], errors='coerce')\n",
      "/var/folders/y4/b2fcjhj15hldf0d05r2dg2jr0000gn/T/ipykernel_16882/2046814545.py:35: SettingWithCopyWarning: \n",
      "A value is trying to be set on a copy of a slice from a DataFrame.\n",
      "Try using .loc[row_indexer,col_indexer] = value instead\n",
      "\n",
      "See the caveats in the documentation: https://pandas.pydata.org/pandas-docs/stable/user_guide/indexing.html#returning-a-view-versus-a-copy\n",
      "  cameras['VIOLATIONS'] = pd.to_numeric(cameras['VIOLATIONS'], errors='coerce')\n",
      "/var/folders/y4/b2fcjhj15hldf0d05r2dg2jr0000gn/T/ipykernel_16882/2046814545.py:60: FutureWarning: \n",
      "\n",
      "Passing `palette` without assigning `hue` is deprecated and will be removed in v0.14.0. Assign the `y` variable to `hue` and set `legend=False` for the same effect.\n",
      "\n",
      "  sns.barplot(x=top_cameras.values, y=top_cameras.index, ax=axes[0], palette='viridis')\n"
     ]
    }
   ],
   "source": [
    "import pandas as pd\n",
    "import numpy as np\n",
    "import matplotlib.pyplot as plt\n",
    "import seaborn as sns\n",
    "from datetime import datetime\n",
    "\n",
    "# Set up visualization\n",
    "plt.switch_backend('TkAgg')\n",
    "sns.set_style(\"whitegrid\")\n",
    "plt.rcParams[\"figure.figsize\"] = (12, 6)\n",
    "\n",
    "def load_data():\n",
    "    # Load crashes data with proper datetime parsing\n",
    "    crashes = pd.read_csv(\"traffic_crashes.csv\")\n",
    "    crashes.columns = crashes.columns.str.strip()\n",
    "    crashes['CRASH_DATE'] = pd.to_datetime(crashes['CRASH_DATE'], format='%m/%d/%Y %I:%M:%S %p', errors='coerce')\n",
    "    \n",
    "    # Load speed camera data\n",
    "    cameras = pd.read_csv(\"speed_camera_violations.csv\", parse_dates=['VIOLATION DATE'])\n",
    "    cameras.columns = cameras.columns.str.strip()\n",
    "    \n",
    "    # Load traffic data\n",
    "    traffic = pd.read_csv(\"chicago_traffic_tracker.csv\", parse_dates=[' LAST_UPDATED'])\n",
    "    traffic.columns = traffic.columns.str.strip()\n",
    "    \n",
    "    return crashes, cameras, traffic\n",
    "\n",
    "def clean_data(crashes, cameras, traffic):\n",
    "    # Clean crashes data\n",
    "    crashes = crashes.dropna(subset=['LATITUDE', 'LONGITUDE'])\n",
    "    crashes['POSTED_SPEED_LIMIT'] = pd.to_numeric(crashes['POSTED_SPEED_LIMIT'], errors='coerce')\n",
    "    \n",
    "    # Clean camera data\n",
    "    cameras = cameras.dropna(subset=['LATITUDE', 'LONGITUDE'])\n",
    "    cameras['VIOLATIONS'] = pd.to_numeric(cameras['VIOLATIONS'], errors='coerce')\n",
    "    \n",
    "    # Clean traffic data\n",
    "    traffic = traffic[traffic['CURRENT_SPEED'] > 0]  # Remove invalid speed records\n",
    "    \n",
    "    return crashes, cameras, traffic\n",
    "\n",
    "crashes, cameras, traffic = load_data()\n",
    "crashes, cameras, traffic = clean_data(crashes, cameras, traffic)\n",
    "\n",
    "# Set up visualization\n",
    "plt.switch_backend('TkAgg')\n",
    "sns.set_style(\"whitegrid\")\n",
    "plt.rcParams[\"figure.figsize\"] = (12, 6)\n",
    "\n",
    "def plot_camera_violations(cameras):\n",
    "    \"\"\"Analyze speed camera violation patterns\"\"\"\n",
    "    if len(cameras) == 0:\n",
    "        print(\"No camera data available\")\n",
    "        return\n",
    "    \n",
    "    fig, axes = plt.subplots(2, 1, figsize=(14, 12))\n",
    "    \n",
    "    # Violations by camera\n",
    "    top_cameras = cameras.groupby('CAMERA ID')['VIOLATIONS'].sum().nlargest(10)\n",
    "    sns.barplot(x=top_cameras.values, y=top_cameras.index, ax=axes[0], palette='viridis')\n",
    "    axes[0].set_title('Top 10 Cameras by Total Violations')\n",
    "    axes[0].set_xlabel('Total Violations')\n",
    "    axes[0].set_ylabel('Camera ID')\n",
    "    \n",
    "    # Violation trends over time\n",
    "    if 'VIOLATION DATE' in cameras.columns:\n",
    "        cameras['YEAR'] = cameras['VIOLATION DATE'].dt.year\n",
    "        yearly_violations = cameras.groupby('YEAR')['VIOLATIONS'].sum()\n",
    "        sns.lineplot(x=yearly_violations.index, y=yearly_violations.values, \n",
    "                     ax=axes[1], marker='o', color='green')\n",
    "        axes[1].set_title('Yearly Speed Camera Violations')\n",
    "        axes[1].set_xlabel('Year')\n",
    "        axes[1].set_ylabel('Total Violations')\n",
    "    \n",
    "    plt.tight_layout()\n",
    "    plt.show()\n",
    "\n",
    "plot_camera_violations(cameras)"
   ]
  },
  {
   "cell_type": "markdown",
   "metadata": {},
   "source": [
    "## ML "
   ]
  },
  {
   "cell_type": "markdown",
   "metadata": {},
   "source": [
    "## Reflection"
   ]
  }
 ],
 "metadata": {
  "kernelspec": {
   "display_name": "venv",
   "language": "python",
   "name": "python3"
  },
  "language_info": {
   "codemirror_mode": {
    "name": "ipython",
    "version": 3
   },
   "file_extension": ".py",
   "mimetype": "text/x-python",
   "name": "python",
   "nbconvert_exporter": "python",
   "pygments_lexer": "ipython3",
   "version": "3.10.7"
  }
 },
 "nbformat": 4,
 "nbformat_minor": 2
}
